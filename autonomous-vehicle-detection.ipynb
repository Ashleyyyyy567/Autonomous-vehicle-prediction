{
 "cells": [
  {
   "cell_type": "code",
   "execution_count": null,
   "id": "bacterial-swing",
   "metadata": {
    "_cell_guid": "3eecebc3-bd0d-4a97-a5a8-d858a1c1a765",
    "_uuid": "e2326a10-9b1f-40fb-9310-ce229a4c2026",
    "collapsed": false,
    "jupyter": {
     "outputs_hidden": false
    },
    "papermill": {
     "duration": 0.020205,
     "end_time": "2021-05-09T09:39:19.353599",
     "exception": false,
     "start_time": "2021-05-09T09:39:19.333394",
     "status": "completed"
    },
    "tags": []
   },
   "outputs": [],
   "source": []
  },
  {
   "cell_type": "code",
   "execution_count": 1,
   "id": "substantial-binding",
   "metadata": {
    "_cell_guid": "13446f64-5969-45a7-a102-13cf7050d2a6",
    "_uuid": "dc82a9df-d879-487b-89fe-c49e65c78d52",
    "collapsed": false,
    "execution": {
     "iopub.execute_input": "2021-05-09T09:39:19.393971Z",
     "iopub.status.busy": "2021-05-09T09:39:19.393024Z",
     "iopub.status.idle": "2021-05-09T09:39:20.356600Z",
     "shell.execute_reply": "2021-05-09T09:39:20.356010Z"
    },
    "jupyter": {
     "outputs_hidden": false
    },
    "papermill": {
     "duration": 0.984429,
     "end_time": "2021-05-09T09:39:20.356766",
     "exception": false,
     "start_time": "2021-05-09T09:39:19.372337",
     "status": "completed"
    },
    "tags": []
   },
   "outputs": [],
   "source": [
    "import torch\n",
    "from torch.utils.data import Dataset, DataLoader\n",
    "import os, os.path \n",
    "import numpy as np\n",
    "import pickle\n",
    "from glob import glob\n",
    "\n",
    "# number of sequences in each dataset\n",
    "# train:205942  val:3200 test: 36272 \n",
    "# sequences sampled at 10HZ rate"
   ]
  },
  {
   "cell_type": "code",
   "execution_count": null,
   "id": "neutral-census",
   "metadata": {
    "_cell_guid": "1f4a068d-e565-4a5d-b4cf-88e00448b18f",
    "_uuid": "b6be25c6-8c20-4980-ba43-8db893d1f8e1",
    "collapsed": false,
    "jupyter": {
     "outputs_hidden": false
    },
    "papermill": {
     "duration": 0.01809,
     "end_time": "2021-05-09T09:39:20.394019",
     "exception": false,
     "start_time": "2021-05-09T09:39:20.375929",
     "status": "completed"
    },
    "tags": []
   },
   "outputs": [],
   "source": []
  },
  {
   "cell_type": "code",
   "execution_count": null,
   "id": "union-lightweight",
   "metadata": {
    "_cell_guid": "42d0363e-cf6d-4f23-aa0b-20b77e968cac",
    "_uuid": "86dbbc06-9d91-4246-a449-4f72fa686910",
    "collapsed": false,
    "jupyter": {
     "outputs_hidden": false
    },
    "papermill": {
     "duration": 0.018053,
     "end_time": "2021-05-09T09:39:20.430317",
     "exception": false,
     "start_time": "2021-05-09T09:39:20.412264",
     "status": "completed"
    },
    "tags": []
   },
   "outputs": [],
   "source": []
  },
  {
   "cell_type": "code",
   "execution_count": null,
   "id": "false-provincial",
   "metadata": {
    "_cell_guid": "1a07cb8a-cc33-47f0-a665-e352a5199151",
    "_uuid": "16c89175-4ac0-4502-8788-e6681313a7a1",
    "collapsed": false,
    "jupyter": {
     "outputs_hidden": false
    },
    "papermill": {
     "duration": 0.017882,
     "end_time": "2021-05-09T09:39:20.466585",
     "exception": false,
     "start_time": "2021-05-09T09:39:20.448703",
     "status": "completed"
    },
    "tags": []
   },
   "outputs": [],
   "source": []
  },
  {
   "cell_type": "code",
   "execution_count": null,
   "id": "focused-aggregate",
   "metadata": {
    "_cell_guid": "2b6742bf-efe1-4d87-8e17-fd15ef72d372",
    "_uuid": "0653c6f8-1c06-4484-83ec-53f530816d63",
    "collapsed": false,
    "jupyter": {
     "outputs_hidden": false
    },
    "papermill": {
     "duration": 0.018091,
     "end_time": "2021-05-09T09:39:20.503070",
     "exception": false,
     "start_time": "2021-05-09T09:39:20.484979",
     "status": "completed"
    },
    "tags": []
   },
   "outputs": [],
   "source": []
  },
  {
   "cell_type": "code",
   "execution_count": null,
   "id": "lightweight-portland",
   "metadata": {
    "_cell_guid": "4425fbbb-7675-4b6c-9aca-8259f9e73452",
    "_uuid": "083a7fe1-61b6-4b5d-9ef9-0ad70a608b55",
    "collapsed": false,
    "jupyter": {
     "outputs_hidden": false
    },
    "papermill": {
     "duration": 0.017942,
     "end_time": "2021-05-09T09:39:20.539332",
     "exception": false,
     "start_time": "2021-05-09T09:39:20.521390",
     "status": "completed"
    },
    "tags": []
   },
   "outputs": [],
   "source": []
  },
  {
   "cell_type": "code",
   "execution_count": null,
   "id": "abstract-scenario",
   "metadata": {
    "_cell_guid": "2806e9c4-c8b1-40cb-adb4-82d0b99893c6",
    "_uuid": "b70df367-3ed7-4476-a995-4585ec7045a5",
    "collapsed": false,
    "jupyter": {
     "outputs_hidden": false
    },
    "papermill": {
     "duration": 0.018231,
     "end_time": "2021-05-09T09:39:20.577719",
     "exception": false,
     "start_time": "2021-05-09T09:39:20.559488",
     "status": "completed"
    },
    "tags": []
   },
   "outputs": [],
   "source": []
  },
  {
   "cell_type": "code",
   "execution_count": null,
   "id": "exceptional-statement",
   "metadata": {
    "_cell_guid": "f782138c-8b18-4b72-9145-0bdda042344a",
    "_uuid": "18e12343-e20f-4884-8fc8-9182cc7e01f0",
    "collapsed": false,
    "jupyter": {
     "outputs_hidden": false
    },
    "papermill": {
     "duration": 0.017845,
     "end_time": "2021-05-09T09:39:20.613939",
     "exception": false,
     "start_time": "2021-05-09T09:39:20.596094",
     "status": "completed"
    },
    "tags": []
   },
   "outputs": [],
   "source": []
  },
  {
   "cell_type": "markdown",
   "id": "sharp-puzzle",
   "metadata": {
    "_cell_guid": "3dbf1ab9-d555-46b4-a8e8-a367981a9813",
    "_uuid": "55248528-0c98-41dc-9430-68f5730aa673",
    "papermill": {
     "duration": 0.018033,
     "end_time": "2021-05-09T09:39:20.650119",
     "exception": false,
     "start_time": "2021-05-09T09:39:20.632086",
     "status": "completed"
    },
    "tags": []
   },
   "source": [
    "> # Part 1: Task Description and Exploratory Analysis\n",
    "> # ? Not sure to use one file, or all in training files"
   ]
  },
  {
   "cell_type": "code",
   "execution_count": 2,
   "id": "exposed-hartford",
   "metadata": {
    "_cell_guid": "243ed755-093a-4e31-8ab0-dae15df179c7",
    "_uuid": "f8178556-d30d-4347-bc0c-63d70693b172",
    "collapsed": false,
    "execution": {
     "iopub.execute_input": "2021-05-09T09:39:20.691326Z",
     "iopub.status.busy": "2021-05-09T09:39:20.690797Z",
     "iopub.status.idle": "2021-05-09T09:39:20.726921Z",
     "shell.execute_reply": "2021-05-09T09:39:20.726364Z"
    },
    "jupyter": {
     "outputs_hidden": false
    },
    "papermill": {
     "duration": 0.058578,
     "end_time": "2021-05-09T09:39:20.727060",
     "exception": false,
     "start_time": "2021-05-09T09:39:20.668482",
     "status": "completed"
    },
    "tags": []
   },
   "outputs": [],
   "source": [
    "import pickle\n",
    "\n",
    "# select one of the file from train dataset to do data exploriation \n",
    "data = 0\n",
    "with open('../input/kaggle-competitions-download-c-cse151bspring/new_train/new_train/0.pkl', 'rb') as f:\n",
    "    data = pickle.load(f)"
   ]
  },
  {
   "cell_type": "markdown",
   "id": "historical-upset",
   "metadata": {
    "_cell_guid": "398e6671-92b6-43aa-a9cb-e178e8fd0b7b",
    "_uuid": "a247e50a-b0b6-4b9c-a3c3-96f203719ad1",
    "papermill": {
     "duration": 0.018261,
     "end_time": "2021-05-09T09:39:20.764130",
     "exception": false,
     "start_time": "2021-05-09T09:39:20.745869",
     "status": "completed"
    },
    "tags": []
   },
   "source": [
    "### Position Input for all Agents"
   ]
  },
  {
   "cell_type": "code",
   "execution_count": 3,
   "id": "similar-permit",
   "metadata": {
    "_cell_guid": "cc6e1002-14fd-487c-88e9-07f94459eaaa",
    "_uuid": "984755a3-a430-4913-b75c-fca573fc7864",
    "collapsed": false,
    "execution": {
     "iopub.execute_input": "2021-05-09T09:39:20.805172Z",
     "iopub.status.busy": "2021-05-09T09:39:20.804288Z",
     "iopub.status.idle": "2021-05-09T09:39:20.870776Z",
     "shell.execute_reply": "2021-05-09T09:39:20.871238Z"
    },
    "jupyter": {
     "outputs_hidden": false
    },
    "papermill": {
     "duration": 0.088544,
     "end_time": "2021-05-09T09:39:20.871398",
     "exception": false,
     "start_time": "2021-05-09T09:39:20.782854",
     "status": "completed"
    },
    "tags": []
   },
   "outputs": [
    {
     "ename": "NameError",
     "evalue": "name 'plt' is not defined",
     "output_type": "error",
     "traceback": [
      "\u001b[0;31m---------------------------------------------------------------------------\u001b[0m",
      "\u001b[0;31mNameError\u001b[0m                                 Traceback (most recent call last)",
      "\u001b[0;32m<ipython-input-3-6ce35dce0b5e>\u001b[0m in \u001b[0;36m<module>\u001b[0;34m\u001b[0m\n\u001b[1;32m      2\u001b[0m \u001b[0my_position_in\u001b[0m \u001b[0;34m=\u001b[0m \u001b[0mnp\u001b[0m\u001b[0;34m.\u001b[0m\u001b[0mreshape\u001b[0m\u001b[0;34m(\u001b[0m\u001b[0mdata\u001b[0m\u001b[0;34m[\u001b[0m\u001b[0;34m'p_in'\u001b[0m\u001b[0;34m]\u001b[0m\u001b[0;34m[\u001b[0m\u001b[0;34m:\u001b[0m\u001b[0;34m,\u001b[0m\u001b[0;34m:\u001b[0m\u001b[0;34m,\u001b[0m\u001b[0;36m1\u001b[0m\u001b[0;34m]\u001b[0m\u001b[0;34m,\u001b[0m \u001b[0;36m60\u001b[0m\u001b[0;34m*\u001b[0m\u001b[0;36m19\u001b[0m\u001b[0;34m)\u001b[0m\u001b[0;34m\u001b[0m\u001b[0;34m\u001b[0m\u001b[0m\n\u001b[1;32m      3\u001b[0m \u001b[0;34m\u001b[0m\u001b[0m\n\u001b[0;32m----> 4\u001b[0;31m \u001b[0mplt\u001b[0m\u001b[0;34m.\u001b[0m\u001b[0mhist\u001b[0m\u001b[0;34m(\u001b[0m\u001b[0mx_position_in\u001b[0m\u001b[0;34m[\u001b[0m\u001b[0mx_position_in\u001b[0m \u001b[0;34m!=\u001b[0m \u001b[0;36m0\u001b[0m\u001b[0;34m]\u001b[0m\u001b[0;34m)\u001b[0m\u001b[0;34m\u001b[0m\u001b[0;34m\u001b[0m\u001b[0m\n\u001b[0m\u001b[1;32m      5\u001b[0m \u001b[0mplt\u001b[0m\u001b[0;34m.\u001b[0m\u001b[0mxlabel\u001b[0m\u001b[0;34m(\u001b[0m\u001b[0;34m'x axis position'\u001b[0m\u001b[0;34m)\u001b[0m\u001b[0;34m\u001b[0m\u001b[0;34m\u001b[0m\u001b[0m\n\u001b[1;32m      6\u001b[0m \u001b[0mplt\u001b[0m\u001b[0;34m.\u001b[0m\u001b[0mylabel\u001b[0m\u001b[0;34m(\u001b[0m\u001b[0;34m'Frequency'\u001b[0m\u001b[0;34m)\u001b[0m\u001b[0;34m\u001b[0m\u001b[0;34m\u001b[0m\u001b[0m\n",
      "\u001b[0;31mNameError\u001b[0m: name 'plt' is not defined"
     ]
    }
   ],
   "source": [
    "x_position_in = np.reshape(data['p_in'][:,:,0], 60*19)\n",
    "y_position_in = np.reshape(data['p_in'][:,:,1], 60*19)\n",
    "\n",
    "plt.hist(x_position_in[x_position_in != 0])\n",
    "plt.xlabel('x axis position')\n",
    "plt.ylabel('Frequency')\n",
    "plt.title('X axis Input Position for all agents')"
   ]
  },
  {
   "cell_type": "code",
   "execution_count": 4,
   "id": "extraordinary-country",
   "metadata": {
    "_cell_guid": "99fa7576-74bc-4abb-a867-19df581f7c76",
    "_uuid": "a0556507-9707-48c3-b5b4-d56075f75e2f",
    "collapsed": false,
    "execution": {
     "iopub.execute_input": "2021-05-09T09:39:20.913167Z",
     "iopub.status.busy": "2021-05-09T09:39:20.912315Z",
     "iopub.status.idle": "2021-05-09T09:39:20.925140Z",
     "shell.execute_reply": "2021-05-09T09:39:20.925557Z"
    },
    "jupyter": {
     "outputs_hidden": false
    },
    "papermill": {
     "duration": 0.034856,
     "end_time": "2021-05-09T09:39:20.925723",
     "exception": false,
     "start_time": "2021-05-09T09:39:20.890867",
     "status": "completed"
    },
    "tags": []
   },
   "outputs": [
    {
     "ename": "NameError",
     "evalue": "name 'plt' is not defined",
     "output_type": "error",
     "traceback": [
      "\u001b[0;31m---------------------------------------------------------------------------\u001b[0m",
      "\u001b[0;31mNameError\u001b[0m                                 Traceback (most recent call last)",
      "\u001b[0;32m<ipython-input-4-68f8aad127a1>\u001b[0m in \u001b[0;36m<module>\u001b[0;34m\u001b[0m\n\u001b[0;32m----> 1\u001b[0;31m \u001b[0mplt\u001b[0m\u001b[0;34m.\u001b[0m\u001b[0mhist\u001b[0m\u001b[0;34m(\u001b[0m\u001b[0my_position_in\u001b[0m\u001b[0;34m[\u001b[0m\u001b[0mx_position_in\u001b[0m \u001b[0;34m!=\u001b[0m \u001b[0;36m0\u001b[0m\u001b[0;34m]\u001b[0m\u001b[0;34m)\u001b[0m\u001b[0;34m\u001b[0m\u001b[0;34m\u001b[0m\u001b[0m\n\u001b[0m\u001b[1;32m      2\u001b[0m \u001b[0mplt\u001b[0m\u001b[0;34m.\u001b[0m\u001b[0mxlabel\u001b[0m\u001b[0;34m(\u001b[0m\u001b[0;34m'y axis position'\u001b[0m\u001b[0;34m)\u001b[0m\u001b[0;34m\u001b[0m\u001b[0;34m\u001b[0m\u001b[0m\n\u001b[1;32m      3\u001b[0m \u001b[0mplt\u001b[0m\u001b[0;34m.\u001b[0m\u001b[0mylabel\u001b[0m\u001b[0;34m(\u001b[0m\u001b[0;34m'Frequency'\u001b[0m\u001b[0;34m)\u001b[0m\u001b[0;34m\u001b[0m\u001b[0;34m\u001b[0m\u001b[0m\n\u001b[1;32m      4\u001b[0m \u001b[0mplt\u001b[0m\u001b[0;34m.\u001b[0m\u001b[0mtitle\u001b[0m\u001b[0;34m(\u001b[0m\u001b[0;34m'Y axis Input Position for all agents'\u001b[0m\u001b[0;34m)\u001b[0m\u001b[0;34m\u001b[0m\u001b[0;34m\u001b[0m\u001b[0m\n",
      "\u001b[0;31mNameError\u001b[0m: name 'plt' is not defined"
     ]
    }
   ],
   "source": [
    "plt.hist(y_position_in[x_position_in != 0])\n",
    "plt.xlabel('y axis position')\n",
    "plt.ylabel('Frequency')\n",
    "plt.title('Y axis Input Position for all agents')"
   ]
  },
  {
   "cell_type": "markdown",
   "id": "identical-flour",
   "metadata": {
    "_cell_guid": "81fdbed9-3c0c-412e-b7c3-97e17edee33c",
    "_uuid": "d47c3484-588c-494e-84a0-73750ee056a6",
    "papermill": {
     "duration": 0.018988,
     "end_time": "2021-05-09T09:39:20.964032",
     "exception": false,
     "start_time": "2021-05-09T09:39:20.945044",
     "status": "completed"
    },
    "tags": []
   },
   "source": [
    "## Position Output for all agents"
   ]
  },
  {
   "cell_type": "code",
   "execution_count": 5,
   "id": "answering-senior",
   "metadata": {
    "_cell_guid": "6437bcb7-1b20-43bf-9396-d940d7f50fff",
    "_uuid": "67b6d965-dc73-4d64-aa3c-a09a60823731",
    "collapsed": false,
    "execution": {
     "iopub.execute_input": "2021-05-09T09:39:21.017086Z",
     "iopub.status.busy": "2021-05-09T09:39:21.012053Z",
     "iopub.status.idle": "2021-05-09T09:39:21.020701Z",
     "shell.execute_reply": "2021-05-09T09:39:21.021108Z"
    },
    "jupyter": {
     "outputs_hidden": false
    },
    "papermill": {
     "duration": 0.037525,
     "end_time": "2021-05-09T09:39:21.021271",
     "exception": false,
     "start_time": "2021-05-09T09:39:20.983746",
     "status": "completed"
    },
    "tags": []
   },
   "outputs": [
    {
     "ename": "NameError",
     "evalue": "name 'plt' is not defined",
     "output_type": "error",
     "traceback": [
      "\u001b[0;31m---------------------------------------------------------------------------\u001b[0m",
      "\u001b[0;31mNameError\u001b[0m                                 Traceback (most recent call last)",
      "\u001b[0;32m<ipython-input-5-4b8b299d49f0>\u001b[0m in \u001b[0;36m<module>\u001b[0;34m\u001b[0m\n\u001b[1;32m      2\u001b[0m \u001b[0my_position_out\u001b[0m \u001b[0;34m=\u001b[0m \u001b[0mnp\u001b[0m\u001b[0;34m.\u001b[0m\u001b[0mreshape\u001b[0m\u001b[0;34m(\u001b[0m\u001b[0mdata\u001b[0m\u001b[0;34m[\u001b[0m\u001b[0;34m'p_out'\u001b[0m\u001b[0;34m]\u001b[0m\u001b[0;34m[\u001b[0m\u001b[0;34m:\u001b[0m\u001b[0;34m,\u001b[0m\u001b[0;34m:\u001b[0m\u001b[0;34m,\u001b[0m\u001b[0;36m1\u001b[0m\u001b[0;34m]\u001b[0m\u001b[0;34m,\u001b[0m \u001b[0;36m60\u001b[0m\u001b[0;34m*\u001b[0m\u001b[0;36m30\u001b[0m\u001b[0;34m)\u001b[0m\u001b[0;34m\u001b[0m\u001b[0;34m\u001b[0m\u001b[0m\n\u001b[1;32m      3\u001b[0m \u001b[0;34m\u001b[0m\u001b[0m\n\u001b[0;32m----> 4\u001b[0;31m \u001b[0mplt\u001b[0m\u001b[0;34m.\u001b[0m\u001b[0mhist\u001b[0m\u001b[0;34m(\u001b[0m\u001b[0mx_position_out\u001b[0m\u001b[0;34m[\u001b[0m\u001b[0mx_position_out\u001b[0m \u001b[0;34m!=\u001b[0m \u001b[0;36m0\u001b[0m\u001b[0;34m]\u001b[0m\u001b[0;34m)\u001b[0m\u001b[0;34m\u001b[0m\u001b[0;34m\u001b[0m\u001b[0m\n\u001b[0m\u001b[1;32m      5\u001b[0m \u001b[0mplt\u001b[0m\u001b[0;34m.\u001b[0m\u001b[0mxlabel\u001b[0m\u001b[0;34m(\u001b[0m\u001b[0;34m'x axis position'\u001b[0m\u001b[0;34m)\u001b[0m\u001b[0;34m\u001b[0m\u001b[0;34m\u001b[0m\u001b[0m\n\u001b[1;32m      6\u001b[0m \u001b[0mplt\u001b[0m\u001b[0;34m.\u001b[0m\u001b[0mylabel\u001b[0m\u001b[0;34m(\u001b[0m\u001b[0;34m'Frequency'\u001b[0m\u001b[0;34m)\u001b[0m\u001b[0;34m\u001b[0m\u001b[0;34m\u001b[0m\u001b[0m\n",
      "\u001b[0;31mNameError\u001b[0m: name 'plt' is not defined"
     ]
    }
   ],
   "source": [
    "x_position_out = np.reshape(data['p_out'][:,:,0], 60*30)\n",
    "y_position_out = np.reshape(data['p_out'][:,:,1], 60*30)\n",
    "\n",
    "plt.hist(x_position_out[x_position_out != 0])\n",
    "plt.xlabel('x axis position')\n",
    "plt.ylabel('Frequency')\n",
    "plt.title('X axis Output Position for all agents')"
   ]
  },
  {
   "cell_type": "code",
   "execution_count": 6,
   "id": "collected-elite",
   "metadata": {
    "_cell_guid": "d4301f77-5614-4b1e-9968-f2ac9657ba82",
    "_uuid": "b75c8f57-7ecd-488f-bd8b-ef215417cf75",
    "collapsed": false,
    "execution": {
     "iopub.execute_input": "2021-05-09T09:39:21.074255Z",
     "iopub.status.busy": "2021-05-09T09:39:21.073413Z",
     "iopub.status.idle": "2021-05-09T09:39:21.077161Z",
     "shell.execute_reply": "2021-05-09T09:39:21.076732Z"
    },
    "jupyter": {
     "outputs_hidden": false
    },
    "papermill": {
     "duration": 0.035454,
     "end_time": "2021-05-09T09:39:21.077281",
     "exception": false,
     "start_time": "2021-05-09T09:39:21.041827",
     "status": "completed"
    },
    "tags": []
   },
   "outputs": [
    {
     "ename": "NameError",
     "evalue": "name 'plt' is not defined",
     "output_type": "error",
     "traceback": [
      "\u001b[0;31m---------------------------------------------------------------------------\u001b[0m",
      "\u001b[0;31mNameError\u001b[0m                                 Traceback (most recent call last)",
      "\u001b[0;32m<ipython-input-6-dca4afd8653d>\u001b[0m in \u001b[0;36m<module>\u001b[0;34m\u001b[0m\n\u001b[0;32m----> 1\u001b[0;31m \u001b[0mplt\u001b[0m\u001b[0;34m.\u001b[0m\u001b[0mhist\u001b[0m\u001b[0;34m(\u001b[0m\u001b[0my_position_out\u001b[0m\u001b[0;34m[\u001b[0m\u001b[0my_position_out\u001b[0m \u001b[0;34m!=\u001b[0m \u001b[0;36m0\u001b[0m\u001b[0;34m]\u001b[0m\u001b[0;34m)\u001b[0m\u001b[0;34m\u001b[0m\u001b[0;34m\u001b[0m\u001b[0m\n\u001b[0m\u001b[1;32m      2\u001b[0m \u001b[0mplt\u001b[0m\u001b[0;34m.\u001b[0m\u001b[0mxlabel\u001b[0m\u001b[0;34m(\u001b[0m\u001b[0;34m'y axis position'\u001b[0m\u001b[0;34m)\u001b[0m\u001b[0;34m\u001b[0m\u001b[0;34m\u001b[0m\u001b[0m\n\u001b[1;32m      3\u001b[0m \u001b[0mplt\u001b[0m\u001b[0;34m.\u001b[0m\u001b[0mylabel\u001b[0m\u001b[0;34m(\u001b[0m\u001b[0;34m'Frequency'\u001b[0m\u001b[0;34m)\u001b[0m\u001b[0;34m\u001b[0m\u001b[0;34m\u001b[0m\u001b[0m\n\u001b[1;32m      4\u001b[0m \u001b[0mplt\u001b[0m\u001b[0;34m.\u001b[0m\u001b[0mtitle\u001b[0m\u001b[0;34m(\u001b[0m\u001b[0;34m'Y axis Output Position for all agents'\u001b[0m\u001b[0;34m)\u001b[0m\u001b[0;34m\u001b[0m\u001b[0;34m\u001b[0m\u001b[0m\n",
      "\u001b[0;31mNameError\u001b[0m: name 'plt' is not defined"
     ]
    }
   ],
   "source": [
    "plt.hist(y_position_out[y_position_out != 0])\n",
    "plt.xlabel('y axis position')\n",
    "plt.ylabel('Frequency')\n",
    "plt.title('Y axis Output Position for all agents')"
   ]
  },
  {
   "cell_type": "markdown",
   "id": "imperial-packaging",
   "metadata": {
    "_cell_guid": "c9373073-3490-4d62-b7d6-b7087d59575c",
    "_uuid": "88b34bcf-1eb2-4044-b0da-9cdb31d8eca8",
    "papermill": {
     "duration": 0.01962,
     "end_time": "2021-05-09T09:39:21.116865",
     "exception": false,
     "start_time": "2021-05-09T09:39:21.097245",
     "status": "completed"
    },
    "tags": []
   },
   "source": [
    "## Velocity Input for all agents"
   ]
  },
  {
   "cell_type": "code",
   "execution_count": 7,
   "id": "designing-optimization",
   "metadata": {
    "_cell_guid": "061de093-4544-404d-91de-99de6f669cad",
    "_uuid": "6119f0db-d5f1-4c9d-967f-e31d6df8abfd",
    "collapsed": false,
    "execution": {
     "iopub.execute_input": "2021-05-09T09:39:21.171227Z",
     "iopub.status.busy": "2021-05-09T09:39:21.162538Z",
     "iopub.status.idle": "2021-05-09T09:39:21.176213Z",
     "shell.execute_reply": "2021-05-09T09:39:21.175682Z"
    },
    "jupyter": {
     "outputs_hidden": false
    },
    "papermill": {
     "duration": 0.039629,
     "end_time": "2021-05-09T09:39:21.176336",
     "exception": false,
     "start_time": "2021-05-09T09:39:21.136707",
     "status": "completed"
    },
    "tags": []
   },
   "outputs": [
    {
     "ename": "NameError",
     "evalue": "name 'plt' is not defined",
     "output_type": "error",
     "traceback": [
      "\u001b[0;31m---------------------------------------------------------------------------\u001b[0m",
      "\u001b[0;31mNameError\u001b[0m                                 Traceback (most recent call last)",
      "\u001b[0;32m<ipython-input-7-5b3ba7cd5133>\u001b[0m in \u001b[0;36m<module>\u001b[0;34m\u001b[0m\n\u001b[1;32m      2\u001b[0m \u001b[0my_velocity_in\u001b[0m \u001b[0;34m=\u001b[0m \u001b[0mnp\u001b[0m\u001b[0;34m.\u001b[0m\u001b[0mreshape\u001b[0m\u001b[0;34m(\u001b[0m\u001b[0mdata\u001b[0m\u001b[0;34m[\u001b[0m\u001b[0;34m'v_in'\u001b[0m\u001b[0;34m]\u001b[0m\u001b[0;34m[\u001b[0m\u001b[0;34m:\u001b[0m\u001b[0;34m,\u001b[0m\u001b[0;34m:\u001b[0m\u001b[0;34m,\u001b[0m\u001b[0;36m1\u001b[0m\u001b[0;34m]\u001b[0m\u001b[0;34m,\u001b[0m \u001b[0;36m60\u001b[0m\u001b[0;34m*\u001b[0m\u001b[0;36m19\u001b[0m\u001b[0;34m)\u001b[0m\u001b[0;34m\u001b[0m\u001b[0;34m\u001b[0m\u001b[0m\n\u001b[1;32m      3\u001b[0m \u001b[0;34m\u001b[0m\u001b[0m\n\u001b[0;32m----> 4\u001b[0;31m \u001b[0mplt\u001b[0m\u001b[0;34m.\u001b[0m\u001b[0mhist\u001b[0m\u001b[0;34m(\u001b[0m\u001b[0mx_velocity_in\u001b[0m\u001b[0;34m[\u001b[0m\u001b[0mx_velocity_in\u001b[0m \u001b[0;34m!=\u001b[0m \u001b[0;36m0\u001b[0m\u001b[0;34m]\u001b[0m\u001b[0;34m)\u001b[0m\u001b[0;34m\u001b[0m\u001b[0;34m\u001b[0m\u001b[0m\n\u001b[0m\u001b[1;32m      5\u001b[0m \u001b[0mplt\u001b[0m\u001b[0;34m.\u001b[0m\u001b[0mxlabel\u001b[0m\u001b[0;34m(\u001b[0m\u001b[0;34m'x axis position'\u001b[0m\u001b[0;34m)\u001b[0m\u001b[0;34m\u001b[0m\u001b[0;34m\u001b[0m\u001b[0m\n\u001b[1;32m      6\u001b[0m \u001b[0mplt\u001b[0m\u001b[0;34m.\u001b[0m\u001b[0mylabel\u001b[0m\u001b[0;34m(\u001b[0m\u001b[0;34m'Frequency'\u001b[0m\u001b[0;34m)\u001b[0m\u001b[0;34m\u001b[0m\u001b[0;34m\u001b[0m\u001b[0m\n",
      "\u001b[0;31mNameError\u001b[0m: name 'plt' is not defined"
     ]
    }
   ],
   "source": [
    "x_velocity_in = np.reshape(data['v_in'][:,:,0], 60*19)\n",
    "y_velocity_in = np.reshape(data['v_in'][:,:,1], 60*19)\n",
    "\n",
    "plt.hist(x_velocity_in[x_velocity_in != 0])\n",
    "plt.xlabel('x axis position')\n",
    "plt.ylabel('Frequency')\n",
    "plt.title('X axis Input Velocity for all agents')"
   ]
  },
  {
   "cell_type": "code",
   "execution_count": 8,
   "id": "indonesian-burton",
   "metadata": {
    "_cell_guid": "bc4c90a4-1853-401e-a547-bcb8f5e007e3",
    "_uuid": "1299941f-0950-4705-b518-6886f757096f",
    "collapsed": false,
    "execution": {
     "iopub.execute_input": "2021-05-09T09:39:21.219798Z",
     "iopub.status.busy": "2021-05-09T09:39:21.219210Z",
     "iopub.status.idle": "2021-05-09T09:39:21.231654Z",
     "shell.execute_reply": "2021-05-09T09:39:21.232109Z"
    },
    "jupyter": {
     "outputs_hidden": false
    },
    "papermill": {
     "duration": 0.03554,
     "end_time": "2021-05-09T09:39:21.232268",
     "exception": false,
     "start_time": "2021-05-09T09:39:21.196728",
     "status": "completed"
    },
    "tags": []
   },
   "outputs": [
    {
     "ename": "NameError",
     "evalue": "name 'plt' is not defined",
     "output_type": "error",
     "traceback": [
      "\u001b[0;31m---------------------------------------------------------------------------\u001b[0m",
      "\u001b[0;31mNameError\u001b[0m                                 Traceback (most recent call last)",
      "\u001b[0;32m<ipython-input-8-0994c2f74ce0>\u001b[0m in \u001b[0;36m<module>\u001b[0;34m\u001b[0m\n\u001b[0;32m----> 1\u001b[0;31m \u001b[0mplt\u001b[0m\u001b[0;34m.\u001b[0m\u001b[0mhist\u001b[0m\u001b[0;34m(\u001b[0m\u001b[0my_velocity_in\u001b[0m\u001b[0;34m[\u001b[0m\u001b[0my_velocity_in\u001b[0m \u001b[0;34m!=\u001b[0m \u001b[0;36m0\u001b[0m\u001b[0;34m]\u001b[0m\u001b[0;34m)\u001b[0m\u001b[0;34m\u001b[0m\u001b[0;34m\u001b[0m\u001b[0m\n\u001b[0m\u001b[1;32m      2\u001b[0m \u001b[0mplt\u001b[0m\u001b[0;34m.\u001b[0m\u001b[0mxlabel\u001b[0m\u001b[0;34m(\u001b[0m\u001b[0;34m'y axis position'\u001b[0m\u001b[0;34m)\u001b[0m\u001b[0;34m\u001b[0m\u001b[0;34m\u001b[0m\u001b[0m\n\u001b[1;32m      3\u001b[0m \u001b[0mplt\u001b[0m\u001b[0;34m.\u001b[0m\u001b[0mylabel\u001b[0m\u001b[0;34m(\u001b[0m\u001b[0;34m'Frequency'\u001b[0m\u001b[0;34m)\u001b[0m\u001b[0;34m\u001b[0m\u001b[0;34m\u001b[0m\u001b[0m\n\u001b[1;32m      4\u001b[0m \u001b[0mplt\u001b[0m\u001b[0;34m.\u001b[0m\u001b[0mtitle\u001b[0m\u001b[0;34m(\u001b[0m\u001b[0;34m'Y axis Input Velocity for all agents'\u001b[0m\u001b[0;34m)\u001b[0m\u001b[0;34m\u001b[0m\u001b[0;34m\u001b[0m\u001b[0m\n",
      "\u001b[0;31mNameError\u001b[0m: name 'plt' is not defined"
     ]
    }
   ],
   "source": [
    "plt.hist(y_velocity_in[y_velocity_in != 0])\n",
    "plt.xlabel('y axis position')\n",
    "plt.ylabel('Frequency')\n",
    "plt.title('Y axis Input Velocity for all agents')"
   ]
  },
  {
   "cell_type": "markdown",
   "id": "understanding-heater",
   "metadata": {
    "_cell_guid": "7dd96d57-1771-4c35-93e1-a46ae09689ee",
    "_uuid": "e0d18a15-43e2-4622-ade0-0c1552ad78cc",
    "papermill": {
     "duration": 0.021361,
     "end_time": "2021-05-09T09:39:21.274099",
     "exception": false,
     "start_time": "2021-05-09T09:39:21.252738",
     "status": "completed"
    },
    "tags": []
   },
   "source": [
    "## Velocity Output for all agents"
   ]
  },
  {
   "cell_type": "code",
   "execution_count": 9,
   "id": "strategic-sociology",
   "metadata": {
    "_cell_guid": "0d0ccc49-dbff-4044-8d26-1a9c26605df7",
    "_uuid": "610ac016-6a01-4dd3-8034-099be75b3cdc",
    "collapsed": false,
    "execution": {
     "iopub.execute_input": "2021-05-09T09:39:21.318594Z",
     "iopub.status.busy": "2021-05-09T09:39:21.318045Z",
     "iopub.status.idle": "2021-05-09T09:39:21.331527Z",
     "shell.execute_reply": "2021-05-09T09:39:21.331993Z"
    },
    "jupyter": {
     "outputs_hidden": false
    },
    "papermill": {
     "duration": 0.03708,
     "end_time": "2021-05-09T09:39:21.332144",
     "exception": false,
     "start_time": "2021-05-09T09:39:21.295064",
     "status": "completed"
    },
    "tags": []
   },
   "outputs": [
    {
     "ename": "NameError",
     "evalue": "name 'plt' is not defined",
     "output_type": "error",
     "traceback": [
      "\u001b[0;31m---------------------------------------------------------------------------\u001b[0m",
      "\u001b[0;31mNameError\u001b[0m                                 Traceback (most recent call last)",
      "\u001b[0;32m<ipython-input-9-74863bcf17e4>\u001b[0m in \u001b[0;36m<module>\u001b[0;34m\u001b[0m\n\u001b[1;32m      2\u001b[0m \u001b[0my_velocity_out\u001b[0m \u001b[0;34m=\u001b[0m \u001b[0mnp\u001b[0m\u001b[0;34m.\u001b[0m\u001b[0mreshape\u001b[0m\u001b[0;34m(\u001b[0m\u001b[0mdata\u001b[0m\u001b[0;34m[\u001b[0m\u001b[0;34m'v_out'\u001b[0m\u001b[0;34m]\u001b[0m\u001b[0;34m[\u001b[0m\u001b[0;34m:\u001b[0m\u001b[0;34m,\u001b[0m\u001b[0;34m:\u001b[0m\u001b[0;34m,\u001b[0m\u001b[0;36m1\u001b[0m\u001b[0;34m]\u001b[0m\u001b[0;34m,\u001b[0m \u001b[0;36m60\u001b[0m\u001b[0;34m*\u001b[0m\u001b[0;36m30\u001b[0m\u001b[0;34m)\u001b[0m\u001b[0;34m\u001b[0m\u001b[0;34m\u001b[0m\u001b[0m\n\u001b[1;32m      3\u001b[0m \u001b[0;34m\u001b[0m\u001b[0m\n\u001b[0;32m----> 4\u001b[0;31m \u001b[0mplt\u001b[0m\u001b[0;34m.\u001b[0m\u001b[0mhist\u001b[0m\u001b[0;34m(\u001b[0m\u001b[0mx_velocity_in\u001b[0m\u001b[0;34m[\u001b[0m\u001b[0mx_velocity_in\u001b[0m \u001b[0;34m!=\u001b[0m \u001b[0;36m0\u001b[0m\u001b[0;34m]\u001b[0m\u001b[0;34m)\u001b[0m\u001b[0;34m\u001b[0m\u001b[0;34m\u001b[0m\u001b[0m\n\u001b[0m\u001b[1;32m      5\u001b[0m \u001b[0mplt\u001b[0m\u001b[0;34m.\u001b[0m\u001b[0mxlabel\u001b[0m\u001b[0;34m(\u001b[0m\u001b[0;34m'y axis position'\u001b[0m\u001b[0;34m)\u001b[0m\u001b[0;34m\u001b[0m\u001b[0;34m\u001b[0m\u001b[0m\n\u001b[1;32m      6\u001b[0m \u001b[0mplt\u001b[0m\u001b[0;34m.\u001b[0m\u001b[0mylabel\u001b[0m\u001b[0;34m(\u001b[0m\u001b[0;34m'Frequency'\u001b[0m\u001b[0;34m)\u001b[0m\u001b[0;34m\u001b[0m\u001b[0;34m\u001b[0m\u001b[0m\n",
      "\u001b[0;31mNameError\u001b[0m: name 'plt' is not defined"
     ]
    }
   ],
   "source": [
    "x_velocity_out = np.reshape(data['v_out'][:,:,0], 60*30)\n",
    "y_velocity_out = np.reshape(data['v_out'][:,:,1], 60*30)\n",
    "\n",
    "plt.hist(x_velocity_in[x_velocity_in != 0])\n",
    "plt.xlabel('y axis position')\n",
    "plt.ylabel('Frequency')\n",
    "plt.title('Y axis Input Velocity for all agents')"
   ]
  },
  {
   "cell_type": "markdown",
   "id": "insured-navigator",
   "metadata": {
    "_cell_guid": "d320e0f8-e8ef-4c62-8a96-63b3f623c864",
    "_uuid": "159d6921-8dc9-44af-a00d-c6d90b36c0fc",
    "papermill": {
     "duration": 0.021278,
     "end_time": "2021-05-09T09:39:21.374227",
     "exception": false,
     "start_time": "2021-05-09T09:39:21.352949",
     "status": "completed"
    },
    "tags": []
   },
   "source": [
    "# Data Processing"
   ]
  },
  {
   "cell_type": "markdown",
   "id": "surprising-silicon",
   "metadata": {
    "_cell_guid": "53876a96-bbfc-4a59-8964-828510a356e1",
    "_uuid": "3b0fe3d5-ca7e-41f7-9f0c-d8f92b210076",
    "papermill": {
     "duration": 0.021065,
     "end_time": "2021-05-09T09:39:21.417250",
     "exception": false,
     "start_time": "2021-05-09T09:39:21.396185",
     "status": "completed"
    },
    "tags": []
   },
   "source": [
    "## Load data for training and testing data"
   ]
  },
  {
   "cell_type": "code",
   "execution_count": 10,
   "id": "graphic-discipline",
   "metadata": {
    "_cell_guid": "c0abdbab-6836-4cdf-b822-ecc7fbe80094",
    "_uuid": "1de86951-117b-4588-b336-6ed4cc052dea",
    "collapsed": false,
    "execution": {
     "iopub.execute_input": "2021-05-09T09:39:21.462978Z",
     "iopub.status.busy": "2021-05-09T09:39:21.462414Z",
     "iopub.status.idle": "2021-05-09T09:39:30.302463Z",
     "shell.execute_reply": "2021-05-09T09:39:30.303027Z"
    },
    "jupyter": {
     "outputs_hidden": false
    },
    "papermill": {
     "duration": 8.864313,
     "end_time": "2021-05-09T09:39:30.303196",
     "exception": false,
     "start_time": "2021-05-09T09:39:21.438883",
     "status": "completed"
    },
    "tags": []
   },
   "outputs": [],
   "source": [
    "class ArgoverseDataset(Dataset):\n",
    "    \"\"\"Dataset class for Argoverse\"\"\"\n",
    "    def __init__(self, data_path: str, transform=None):\n",
    "        super(ArgoverseDataset, self).__init__()\n",
    "        self.data_path = data_path\n",
    "        self.transform = transform\n",
    "\n",
    "        self.pkl_list = glob(os.path.join(self.data_path, '*'))\n",
    "        self.pkl_list.sort()\n",
    "        \n",
    "    def __len__(self):\n",
    "        return len(self.pkl_list)\n",
    "\n",
    "    def __getitem__(self, idx):\n",
    "\n",
    "        pkl_path = self.pkl_list[idx]\n",
    "        with open(pkl_path, 'rb') as f:\n",
    "            data = pickle.load(f)\n",
    "            \n",
    "        if self.transform:\n",
    "            data = self.transform(data)\n",
    "\n",
    "        return data\n",
    "\n",
    "\n",
    "# intialize a dataset\n",
    "train_data  = ArgoverseDataset(data_path=\"../input/kaggle-competitions-download-c-cse151bspring/new_train/new_train/\")\n",
    "test_data  = ArgoverseDataset(data_path=\"../input/kaggle-competitions-download-c-cse151bspring/new_val_in/new_val_in/\")"
   ]
  },
  {
   "cell_type": "code",
   "execution_count": 11,
   "id": "sunset-hartford",
   "metadata": {
    "_cell_guid": "297d9095-a08e-45a5-9b0c-58d0f78fb248",
    "_uuid": "b401249e-2ffd-45ff-b3a6-e252a23c3d60",
    "collapsed": false,
    "execution": {
     "iopub.execute_input": "2021-05-09T09:39:30.349818Z",
     "iopub.status.busy": "2021-05-09T09:39:30.349156Z",
     "iopub.status.idle": "2021-05-09T09:39:30.364954Z",
     "shell.execute_reply": "2021-05-09T09:39:30.365358Z"
    },
    "jupyter": {
     "outputs_hidden": false
    },
    "papermill": {
     "duration": 0.039976,
     "end_time": "2021-05-09T09:39:30.365555",
     "exception": false,
     "start_time": "2021-05-09T09:39:30.325579",
     "status": "completed"
    },
    "tags": []
   },
   "outputs": [],
   "source": [
    "import itertools\n",
    "from torch.utils.data import Dataset, DataLoader\n",
    "\n",
    "batch_sz = 4\n",
    "\n",
    "def my_collate(batch):\n",
    "    \"\"\" collate lists of samples into batches, create [ batch_sz x agent_sz x seq_len x feature] \"\"\"\n",
    "    inp = [np.transpose(np.dstack([scene['p_in'][:,:,0].reshape(60*19),scene['p_in'][:,:,1].reshape(60*19),scene['v_in'][:,:,0].reshape(60*19),scene['v_in'][:,:,1].reshape(60*19)]).reshape(60*19,4)) for scene in batch]\n",
    "    \n",
    "    indexs = [np.where(scene['agent_id'] == scene['track_id'][:,0].reshape(60))[0][0] for scene in batch]\n",
    "    p_out = [scene['p_out'][index] for (scene,index) in zip(batch, indexs)]\n",
    "    v_out = [scene['v_out'][index] for (scene,index) in zip(batch, indexs)]\n",
    "    out = [np.concatenate((p[:,0],p[:,1],v[:,0],v[:,1])) for(p,v) in zip(p_out,v_out)]\n",
    "    \n",
    "    \n",
    "    #out = [np.concatenate((scene['p_out'][:,:,0].reshape(60*30), scene['p_out'][:,:,1].reshape(60*30))) for scene in batch]\n",
    "    inp = torch.LongTensor(inp)\n",
    "    out = torch.LongTensor(out)\n",
    "    #print(inp.type())\n",
    "    #print(out.type())\n",
    "    \n",
    "    return [inp, out]\n",
    "\n",
    "train_loader = DataLoader(train_data,batch_size=batch_sz, shuffle = False, collate_fn=my_collate, num_workers=0)"
   ]
  },
  {
   "cell_type": "code",
   "execution_count": 12,
   "id": "double-wyoming",
   "metadata": {
    "_cell_guid": "5c47d370-76ad-401a-9d2d-b35b89c3636c",
    "_uuid": "13090d9c-39bf-449c-89ef-5adce88bec81",
    "collapsed": false,
    "execution": {
     "iopub.execute_input": "2021-05-09T09:39:30.411269Z",
     "iopub.status.busy": "2021-05-09T09:39:30.410751Z",
     "iopub.status.idle": "2021-05-09T09:39:30.506136Z",
     "shell.execute_reply": "2021-05-09T09:39:30.506556Z"
    },
    "jupyter": {
     "outputs_hidden": false
    },
    "papermill": {
     "duration": 0.119437,
     "end_time": "2021-05-09T09:39:30.506711",
     "exception": false,
     "start_time": "2021-05-09T09:39:30.387274",
     "status": "completed"
    },
    "tags": []
   },
   "outputs": [
    {
     "name": "stdout",
     "output_type": "stream",
     "text": [
      "torch.Size([4, 4, 1140])\n",
      "torch.Size([4, 120])\n"
     ]
    },
    {
     "data": {
      "text/plain": [
       "tensor([[[3277, 3277, 3277,  ...,    0,    0,    0],\n",
       "         [1947, 1947, 1947,  ...,    0,    0,    0],\n",
       "         [   0,    0,    0,  ...,    0,    0,    0],\n",
       "         [   0,    0,    0,  ...,    0,    0,    0]],\n",
       "\n",
       "        [[ 823,  823,  823,  ...,    0,    0,    0],\n",
       "         [2068, 2068, 2068,  ...,    0,    0,    0],\n",
       "         [   0,    0,    0,  ...,    0,    0,    0],\n",
       "         [   0,    0,    0,  ...,    0,    0,    0]],\n",
       "\n",
       "        [[3022, 3022, 3021,  ...,    0,    0,    0],\n",
       "         [1595, 1594, 1593,  ...,    0,    0,    0],\n",
       "         [  -8,   -7,   -7,  ...,    0,    0,    0],\n",
       "         [  -7,   -7,   -6,  ...,    0,    0,    0]],\n",
       "\n",
       "        [[ 152,  152,  151,  ...,    0,    0,    0],\n",
       "         [3732, 3732, 3732,  ...,    0,    0,    0],\n",
       "         [  -3,   -4,   -4,  ...,    0,    0,    0],\n",
       "         [   0,    0,    0,  ...,    0,    0,    0]]])"
      ]
     },
     "execution_count": 12,
     "metadata": {},
     "output_type": "execute_result"
    }
   ],
   "source": [
    "_, (example_datas, labels) = next(enumerate(train_loader))\n",
    "\n",
    "\"\"\"\n",
    "For input:\n",
    "1st dimension is batch size = 4\n",
    "2nd dimension is channel size = 4 (p_in_x, p_in_y, v_in_x, v_in_y)\n",
    "3rd dimension is # sample 60 (# agents) x 19 (timestemps)\n",
    "\n",
    "For output:\n",
    "1st dimension is batch size = 4\n",
    "2nd dimension is final ouput of the agent \n",
    "0_29: p_out_x, \n",
    "30_59: p_out_y,\n",
    "60-89: v_out_x, \n",
    "100:119: v_out_y\n",
    "\"\"\"\n",
    "print(np.shape(example_datas))\n",
    "print(np.shape(labels))\n",
    "example_datas"
   ]
  },
  {
   "cell_type": "code",
   "execution_count": null,
   "id": "thermal-sally",
   "metadata": {
    "_cell_guid": "8aae0c63-dd70-44a8-bce6-ee3d6ec7d2ae",
    "_uuid": "4e3bec80-e065-444f-822f-951f02c52921",
    "collapsed": false,
    "jupyter": {
     "outputs_hidden": false
    },
    "papermill": {
     "duration": 0.021386,
     "end_time": "2021-05-09T09:39:30.549799",
     "exception": false,
     "start_time": "2021-05-09T09:39:30.528413",
     "status": "completed"
    },
    "tags": []
   },
   "outputs": [],
   "source": []
  },
  {
   "cell_type": "code",
   "execution_count": 13,
   "id": "greek-crash",
   "metadata": {
    "_cell_guid": "afdde1ca-6a99-4544-8420-333ff2647d1c",
    "_uuid": "0d3f789d-1b4b-43f3-921a-0ac1f20a5a0d",
    "collapsed": false,
    "execution": {
     "iopub.execute_input": "2021-05-09T09:39:30.615580Z",
     "iopub.status.busy": "2021-05-09T09:39:30.614727Z",
     "iopub.status.idle": "2021-05-09T09:39:31.113283Z",
     "shell.execute_reply": "2021-05-09T09:39:31.112812Z"
    },
    "jupyter": {
     "outputs_hidden": false
    },
    "papermill": {
     "duration": 0.540836,
     "end_time": "2021-05-09T09:39:31.113416",
     "exception": false,
     "start_time": "2021-05-09T09:39:30.572580",
     "status": "completed"
    },
    "tags": []
   },
   "outputs": [],
   "source": [
    "import torch.nn as nn\n",
    "import torch.nn.functional as F\n",
    "import torch.optim as optim\n",
    "\n",
    "nfilt1 = 10\n",
    "nfilt2 = 20\n",
    "filt_size = 10\n",
    "pool_size1 = 4\n",
    "pool_size2 = 5\n",
    "in_length = 1140\n",
    "out_length = 120\n",
    "\n",
    "class CNN(nn.Module):\n",
    "    def __init__(self):\n",
    "        super().__init__()\n",
    "        self.conv1 = nn.Conv1d(4, nfilt1, filt_size)\n",
    "        self.pool1 = nn.MaxPool1d(pool_size1, ceil_mode=True)\n",
    "        self.conv2 = nn.Conv2d(nfilt1, nfilt2, filt_size)\n",
    "        self.pool2 = nn.MaxPool1d(pool_size2, ceil_mode=True)\n",
    "        self.fc1 = nn.Linear(int(in_length/pool_size1/pool_size2)*nfilt1*nfilt2, 5000)\n",
    "        self.fc2 = nn.Linear(9001, out_length)\n",
    "        \n",
    "\n",
    "\n",
    "    def forward(self, x):\n",
    "        print(\"forward x is \",x.type())\n",
    "        x = self.pool1(F.relu(self.conv1(x)))\n",
    "        x = self.pool2(F.relu(self.conv2(x)))\n",
    "        x = torch.reshape(x, (-1,nfilt1*nfilt2*(int(in_length/pool_size1/pool_size2))))\n",
    "        x = F.relu(self.fc1(x))\n",
    "        x = torch.cat((x,m),dim=1)\n",
    "        x = self.fc2(x)\n",
    "        return x\n",
    "    \n",
    "net = CNN()"
   ]
  },
  {
   "cell_type": "code",
   "execution_count": 14,
   "id": "freelance-inspiration",
   "metadata": {
    "_cell_guid": "556f1758-fa9a-40ff-b7b9-f65bf9a27589",
    "_uuid": "8c202d6d-8a31-4525-8766-a21fa7650a20",
    "collapsed": false,
    "execution": {
     "iopub.execute_input": "2021-05-09T09:39:31.161796Z",
     "iopub.status.busy": "2021-05-09T09:39:31.161156Z",
     "iopub.status.idle": "2021-05-09T09:39:31.164170Z",
     "shell.execute_reply": "2021-05-09T09:39:31.163756Z"
    },
    "jupyter": {
     "outputs_hidden": false
    },
    "papermill": {
     "duration": 0.028701,
     "end_time": "2021-05-09T09:39:31.164292",
     "exception": false,
     "start_time": "2021-05-09T09:39:31.135591",
     "status": "completed"
    },
    "tags": []
   },
   "outputs": [],
   "source": [
    "criterion = nn.CrossEntropyLoss()\n",
    "optimizer = optim.SGD(net.parameters(), lr=0.001, momentum=0.9)"
   ]
  },
  {
   "cell_type": "code",
   "execution_count": 15,
   "id": "twenty-actress",
   "metadata": {
    "_cell_guid": "96ea0907-2017-47db-b90a-cd62ead09f88",
    "_uuid": "ee412281-b9e9-42b8-9b4c-d104b6b10867",
    "collapsed": false,
    "execution": {
     "iopub.execute_input": "2021-05-09T09:39:31.214073Z",
     "iopub.status.busy": "2021-05-09T09:39:31.213389Z",
     "iopub.status.idle": "2021-05-09T09:39:31.304799Z",
     "shell.execute_reply": "2021-05-09T09:39:31.304212Z"
    },
    "jupyter": {
     "outputs_hidden": false
    },
    "papermill": {
     "duration": 0.11851,
     "end_time": "2021-05-09T09:39:31.304933",
     "exception": false,
     "start_time": "2021-05-09T09:39:31.186423",
     "status": "completed"
    },
    "tags": []
   },
   "outputs": [
    {
     "name": "stdout",
     "output_type": "stream",
     "text": [
      "forward x is  torch.LongTensor\n"
     ]
    },
    {
     "ename": "RuntimeError",
     "evalue": "expected scalar type Long but found Float",
     "output_type": "error",
     "traceback": [
      "\u001b[0;31m---------------------------------------------------------------------------\u001b[0m",
      "\u001b[0;31mRuntimeError\u001b[0m                              Traceback (most recent call last)",
      "\u001b[0;32m<ipython-input-15-949cacf46104>\u001b[0m in \u001b[0;36m<module>\u001b[0;34m\u001b[0m\n\u001b[1;32m     10\u001b[0m \u001b[0;34m\u001b[0m\u001b[0m\n\u001b[1;32m     11\u001b[0m         \u001b[0;31m# forward + backward + optimize\u001b[0m\u001b[0;34m\u001b[0m\u001b[0;34m\u001b[0m\u001b[0;34m\u001b[0m\u001b[0m\n\u001b[0;32m---> 12\u001b[0;31m         \u001b[0moutputs\u001b[0m \u001b[0;34m=\u001b[0m \u001b[0mnet\u001b[0m\u001b[0;34m(\u001b[0m\u001b[0minputs\u001b[0m\u001b[0;34m)\u001b[0m\u001b[0;34m\u001b[0m\u001b[0;34m\u001b[0m\u001b[0m\n\u001b[0m\u001b[1;32m     13\u001b[0m         \u001b[0mloss\u001b[0m \u001b[0;34m=\u001b[0m \u001b[0mcriterion\u001b[0m\u001b[0;34m(\u001b[0m\u001b[0moutputs\u001b[0m\u001b[0;34m,\u001b[0m \u001b[0mlabels\u001b[0m\u001b[0;34m)\u001b[0m\u001b[0;34m\u001b[0m\u001b[0;34m\u001b[0m\u001b[0m\n\u001b[1;32m     14\u001b[0m         \u001b[0mloss\u001b[0m\u001b[0;34m.\u001b[0m\u001b[0mbackward\u001b[0m\u001b[0;34m(\u001b[0m\u001b[0;34m)\u001b[0m\u001b[0;34m\u001b[0m\u001b[0;34m\u001b[0m\u001b[0m\n",
      "\u001b[0;32m/opt/conda/lib/python3.7/site-packages/torch/nn/modules/module.py\u001b[0m in \u001b[0;36m_call_impl\u001b[0;34m(self, *input, **kwargs)\u001b[0m\n\u001b[1;32m    725\u001b[0m             \u001b[0mresult\u001b[0m \u001b[0;34m=\u001b[0m \u001b[0mself\u001b[0m\u001b[0;34m.\u001b[0m\u001b[0m_slow_forward\u001b[0m\u001b[0;34m(\u001b[0m\u001b[0;34m*\u001b[0m\u001b[0minput\u001b[0m\u001b[0;34m,\u001b[0m \u001b[0;34m**\u001b[0m\u001b[0mkwargs\u001b[0m\u001b[0;34m)\u001b[0m\u001b[0;34m\u001b[0m\u001b[0;34m\u001b[0m\u001b[0m\n\u001b[1;32m    726\u001b[0m         \u001b[0;32melse\u001b[0m\u001b[0;34m:\u001b[0m\u001b[0;34m\u001b[0m\u001b[0;34m\u001b[0m\u001b[0m\n\u001b[0;32m--> 727\u001b[0;31m             \u001b[0mresult\u001b[0m \u001b[0;34m=\u001b[0m \u001b[0mself\u001b[0m\u001b[0;34m.\u001b[0m\u001b[0mforward\u001b[0m\u001b[0;34m(\u001b[0m\u001b[0;34m*\u001b[0m\u001b[0minput\u001b[0m\u001b[0;34m,\u001b[0m \u001b[0;34m**\u001b[0m\u001b[0mkwargs\u001b[0m\u001b[0;34m)\u001b[0m\u001b[0;34m\u001b[0m\u001b[0;34m\u001b[0m\u001b[0m\n\u001b[0m\u001b[1;32m    728\u001b[0m         for hook in itertools.chain(\n\u001b[1;32m    729\u001b[0m                 \u001b[0m_global_forward_hooks\u001b[0m\u001b[0;34m.\u001b[0m\u001b[0mvalues\u001b[0m\u001b[0;34m(\u001b[0m\u001b[0;34m)\u001b[0m\u001b[0;34m,\u001b[0m\u001b[0;34m\u001b[0m\u001b[0;34m\u001b[0m\u001b[0m\n",
      "\u001b[0;32m<ipython-input-13-5334c73abdf9>\u001b[0m in \u001b[0;36mforward\u001b[0;34m(self, x)\u001b[0m\n\u001b[1;32m     25\u001b[0m     \u001b[0;32mdef\u001b[0m \u001b[0mforward\u001b[0m\u001b[0;34m(\u001b[0m\u001b[0mself\u001b[0m\u001b[0;34m,\u001b[0m \u001b[0mx\u001b[0m\u001b[0;34m)\u001b[0m\u001b[0;34m:\u001b[0m\u001b[0;34m\u001b[0m\u001b[0;34m\u001b[0m\u001b[0m\n\u001b[1;32m     26\u001b[0m         \u001b[0mprint\u001b[0m\u001b[0;34m(\u001b[0m\u001b[0;34m\"forward x is \"\u001b[0m\u001b[0;34m,\u001b[0m\u001b[0mx\u001b[0m\u001b[0;34m.\u001b[0m\u001b[0mtype\u001b[0m\u001b[0;34m(\u001b[0m\u001b[0;34m)\u001b[0m\u001b[0;34m)\u001b[0m\u001b[0;34m\u001b[0m\u001b[0;34m\u001b[0m\u001b[0m\n\u001b[0;32m---> 27\u001b[0;31m         \u001b[0mx\u001b[0m \u001b[0;34m=\u001b[0m \u001b[0mself\u001b[0m\u001b[0;34m.\u001b[0m\u001b[0mpool1\u001b[0m\u001b[0;34m(\u001b[0m\u001b[0mF\u001b[0m\u001b[0;34m.\u001b[0m\u001b[0mrelu\u001b[0m\u001b[0;34m(\u001b[0m\u001b[0mself\u001b[0m\u001b[0;34m.\u001b[0m\u001b[0mconv1\u001b[0m\u001b[0;34m(\u001b[0m\u001b[0mx\u001b[0m\u001b[0;34m)\u001b[0m\u001b[0;34m)\u001b[0m\u001b[0;34m)\u001b[0m\u001b[0;34m\u001b[0m\u001b[0;34m\u001b[0m\u001b[0m\n\u001b[0m\u001b[1;32m     28\u001b[0m         \u001b[0mx\u001b[0m \u001b[0;34m=\u001b[0m \u001b[0mself\u001b[0m\u001b[0;34m.\u001b[0m\u001b[0mpool2\u001b[0m\u001b[0;34m(\u001b[0m\u001b[0mF\u001b[0m\u001b[0;34m.\u001b[0m\u001b[0mrelu\u001b[0m\u001b[0;34m(\u001b[0m\u001b[0mself\u001b[0m\u001b[0;34m.\u001b[0m\u001b[0mconv2\u001b[0m\u001b[0;34m(\u001b[0m\u001b[0mx\u001b[0m\u001b[0;34m)\u001b[0m\u001b[0;34m)\u001b[0m\u001b[0;34m)\u001b[0m\u001b[0;34m\u001b[0m\u001b[0;34m\u001b[0m\u001b[0m\n\u001b[1;32m     29\u001b[0m         \u001b[0mx\u001b[0m \u001b[0;34m=\u001b[0m \u001b[0mtorch\u001b[0m\u001b[0;34m.\u001b[0m\u001b[0mreshape\u001b[0m\u001b[0;34m(\u001b[0m\u001b[0mx\u001b[0m\u001b[0;34m,\u001b[0m \u001b[0;34m(\u001b[0m\u001b[0;34m-\u001b[0m\u001b[0;36m1\u001b[0m\u001b[0;34m,\u001b[0m\u001b[0mnfilt1\u001b[0m\u001b[0;34m*\u001b[0m\u001b[0mnfilt2\u001b[0m\u001b[0;34m*\u001b[0m\u001b[0;34m(\u001b[0m\u001b[0mint\u001b[0m\u001b[0;34m(\u001b[0m\u001b[0min_length\u001b[0m\u001b[0;34m/\u001b[0m\u001b[0mpool_size1\u001b[0m\u001b[0;34m/\u001b[0m\u001b[0mpool_size2\u001b[0m\u001b[0;34m)\u001b[0m\u001b[0;34m)\u001b[0m\u001b[0;34m)\u001b[0m\u001b[0;34m)\u001b[0m\u001b[0;34m\u001b[0m\u001b[0;34m\u001b[0m\u001b[0m\n",
      "\u001b[0;32m/opt/conda/lib/python3.7/site-packages/torch/nn/modules/module.py\u001b[0m in \u001b[0;36m_call_impl\u001b[0;34m(self, *input, **kwargs)\u001b[0m\n\u001b[1;32m    725\u001b[0m             \u001b[0mresult\u001b[0m \u001b[0;34m=\u001b[0m \u001b[0mself\u001b[0m\u001b[0;34m.\u001b[0m\u001b[0m_slow_forward\u001b[0m\u001b[0;34m(\u001b[0m\u001b[0;34m*\u001b[0m\u001b[0minput\u001b[0m\u001b[0;34m,\u001b[0m \u001b[0;34m**\u001b[0m\u001b[0mkwargs\u001b[0m\u001b[0;34m)\u001b[0m\u001b[0;34m\u001b[0m\u001b[0;34m\u001b[0m\u001b[0m\n\u001b[1;32m    726\u001b[0m         \u001b[0;32melse\u001b[0m\u001b[0;34m:\u001b[0m\u001b[0;34m\u001b[0m\u001b[0;34m\u001b[0m\u001b[0m\n\u001b[0;32m--> 727\u001b[0;31m             \u001b[0mresult\u001b[0m \u001b[0;34m=\u001b[0m \u001b[0mself\u001b[0m\u001b[0;34m.\u001b[0m\u001b[0mforward\u001b[0m\u001b[0;34m(\u001b[0m\u001b[0;34m*\u001b[0m\u001b[0minput\u001b[0m\u001b[0;34m,\u001b[0m \u001b[0;34m**\u001b[0m\u001b[0mkwargs\u001b[0m\u001b[0;34m)\u001b[0m\u001b[0;34m\u001b[0m\u001b[0;34m\u001b[0m\u001b[0m\n\u001b[0m\u001b[1;32m    728\u001b[0m         for hook in itertools.chain(\n\u001b[1;32m    729\u001b[0m                 \u001b[0m_global_forward_hooks\u001b[0m\u001b[0;34m.\u001b[0m\u001b[0mvalues\u001b[0m\u001b[0;34m(\u001b[0m\u001b[0;34m)\u001b[0m\u001b[0;34m,\u001b[0m\u001b[0;34m\u001b[0m\u001b[0;34m\u001b[0m\u001b[0m\n",
      "\u001b[0;32m/opt/conda/lib/python3.7/site-packages/torch/nn/modules/conv.py\u001b[0m in \u001b[0;36mforward\u001b[0;34m(self, input)\u001b[0m\n\u001b[1;32m    257\u001b[0m                             _single(0), self.dilation, self.groups)\n\u001b[1;32m    258\u001b[0m         return F.conv1d(input, self.weight, self.bias, self.stride,\n\u001b[0;32m--> 259\u001b[0;31m                         self.padding, self.dilation, self.groups)\n\u001b[0m\u001b[1;32m    260\u001b[0m \u001b[0;34m\u001b[0m\u001b[0m\n\u001b[1;32m    261\u001b[0m \u001b[0;34m\u001b[0m\u001b[0m\n",
      "\u001b[0;31mRuntimeError\u001b[0m: expected scalar type Long but found Float"
     ]
    }
   ],
   "source": [
    "for epoch in range(2):  # loop over the dataset multiple times\n",
    "\n",
    "    running_loss = 0.0\n",
    "    for i, data in enumerate(train_loader, 0):\n",
    "        # get the inputs; data is a list of [inputs, labels]\n",
    "        inputs, labels = data\n",
    "\n",
    "        # zero the parameter gradients\n",
    "        optimizer.zero_grad()\n",
    "\n",
    "        # forward + backward + optimize\n",
    "        outputs = net(inputs)\n",
    "        loss = criterion(outputs, labels)\n",
    "        loss.backward()\n",
    "        optimizer.step()\n",
    "\n",
    "        # print statistics\n",
    "        running_loss += loss.item()\n",
    "        if i % 2000 == 1999:    # print every 2000 mini-batches\n",
    "            print('[%d, %5d] loss: %.3f' %\n",
    "                  (epoch + 1, i + 1, running_loss / 2000))\n",
    "            running_loss = 0.0\n",
    "\n",
    "print('Finished Training')"
   ]
  },
  {
   "cell_type": "code",
   "execution_count": 16,
   "id": "acquired-recall",
   "metadata": {
    "_cell_guid": "3f251c34-e096-4c14-b158-96584844d663",
    "_uuid": "da11be3c-2aa8-4592-befa-ad6a17eff75a",
    "collapsed": false,
    "execution": {
     "iopub.execute_input": "2021-05-09T09:39:31.367145Z",
     "iopub.status.busy": "2021-05-09T09:39:31.366165Z",
     "iopub.status.idle": "2021-05-09T09:39:31.370137Z",
     "shell.execute_reply": "2021-05-09T09:39:31.369676Z"
    },
    "jupyter": {
     "outputs_hidden": false
    },
    "papermill": {
     "duration": 0.042295,
     "end_time": "2021-05-09T09:39:31.370262",
     "exception": false,
     "start_time": "2021-05-09T09:39:31.327967",
     "status": "completed"
    },
    "tags": []
   },
   "outputs": [
    {
     "ename": "NameError",
     "evalue": "name 'val_loader' is not defined",
     "output_type": "error",
     "traceback": [
      "\u001b[0;31m---------------------------------------------------------------------------\u001b[0m",
      "\u001b[0;31mNameError\u001b[0m                                 Traceback (most recent call last)",
      "\u001b[0;32m<ipython-input-16-1f56e0d5df6a>\u001b[0m in \u001b[0;36m<module>\u001b[0;34m\u001b[0m\n\u001b[1;32m     22\u001b[0m \u001b[0;34m\u001b[0m\u001b[0m\n\u001b[1;32m     23\u001b[0m \u001b[0;34m\u001b[0m\u001b[0m\n\u001b[0;32m---> 24\u001b[0;31m \u001b[0;32mfor\u001b[0m \u001b[0mi_batch\u001b[0m\u001b[0;34m,\u001b[0m \u001b[0msample_batch\u001b[0m \u001b[0;32min\u001b[0m \u001b[0menumerate\u001b[0m\u001b[0;34m(\u001b[0m\u001b[0mval_loader\u001b[0m\u001b[0;34m)\u001b[0m\u001b[0;34m:\u001b[0m\u001b[0;34m\u001b[0m\u001b[0;34m\u001b[0m\u001b[0m\n\u001b[0m\u001b[1;32m     25\u001b[0m     \u001b[0minp\u001b[0m\u001b[0;34m,\u001b[0m \u001b[0mout\u001b[0m \u001b[0;34m=\u001b[0m \u001b[0msample_batch\u001b[0m\u001b[0;34m\u001b[0m\u001b[0;34m\u001b[0m\u001b[0m\n\u001b[1;32m     26\u001b[0m     \"\"\"TODO:\n",
      "\u001b[0;31mNameError\u001b[0m: name 'val_loader' is not defined"
     ]
    }
   ],
   "source": [
    "import matplotlib.pyplot as plt\n",
    "import random\n",
    "\n",
    "agent_id = 0\n",
    "\n",
    "def show_sample_batch(sample_batch, agent_id):\n",
    "    \"\"\"visualize the trajectory for a batch of samples with a randon agent\"\"\"\n",
    "    inp, out = sample_batch\n",
    "    batch_sz = inp.size(0)\n",
    "    agent_sz = inp.size(1)\n",
    "    \n",
    "    fig, axs = plt.subplots(1,batch_sz, figsize=(15, 3), facecolor='w', edgecolor='k')\n",
    "    fig.subplots_adjust(hspace = .5, wspace=.001)\n",
    "    axs = axs.ravel()   \n",
    "    for i in range(batch_sz):\n",
    "        axs[i].xaxis.set_ticks([])\n",
    "        axs[i].yaxis.set_ticks([])\n",
    "        \n",
    "        # first two feature dimensions are (x,y) positions\n",
    "        axs[i].scatter(inp[i, agent_id,:,0], inp[i, agent_id,:,1])\n",
    "        axs[i].scatter(out[i, agent_id,:,0], out[i, agent_id,:,1])\n",
    "\n",
    "        \n",
    "for i_batch, sample_batch in enumerate(val_loader):\n",
    "    inp, out = sample_batch\n",
    "    \"\"\"TODO:\n",
    "      Deep learning model\n",
    "      training routine\n",
    "    \"\"\"\n",
    "    show_sample_batch(sample_batch, agent_id)\n",
    "    break"
   ]
  },
  {
   "cell_type": "code",
   "execution_count": null,
   "id": "hungarian-resident",
   "metadata": {
    "_cell_guid": "6e77ed7a-5ddf-4fe9-83e7-9fb9dd447351",
    "_uuid": "50154a7c-10a2-4a20-bc45-7c609f0eaa7c",
    "collapsed": false,
    "jupyter": {
     "outputs_hidden": false
    },
    "papermill": {
     "duration": 0.022672,
     "end_time": "2021-05-09T09:39:31.416763",
     "exception": false,
     "start_time": "2021-05-09T09:39:31.394091",
     "status": "completed"
    },
    "tags": []
   },
   "outputs": [],
   "source": []
  },
  {
   "cell_type": "code",
   "execution_count": null,
   "id": "deadly-socket",
   "metadata": {
    "_cell_guid": "78e38749-507c-4f75-8b15-2688ce4f4b5a",
    "_uuid": "71486142-5dc5-449b-82da-2f7cfc054ea9",
    "collapsed": false,
    "jupyter": {
     "outputs_hidden": false
    },
    "papermill": {
     "duration": 0.022408,
     "end_time": "2021-05-09T09:39:31.462065",
     "exception": false,
     "start_time": "2021-05-09T09:39:31.439657",
     "status": "completed"
    },
    "tags": []
   },
   "outputs": [],
   "source": []
  },
  {
   "cell_type": "code",
   "execution_count": null,
   "id": "confidential-rescue",
   "metadata": {
    "_cell_guid": "90fd0dac-c42a-4c9c-8c62-08a676a615c3",
    "_uuid": "ecc3635b-e0cc-4ba8-9139-badb2af9b08a",
    "collapsed": false,
    "jupyter": {
     "outputs_hidden": false
    },
    "papermill": {
     "duration": 0.022315,
     "end_time": "2021-05-09T09:39:31.507123",
     "exception": false,
     "start_time": "2021-05-09T09:39:31.484808",
     "status": "completed"
    },
    "tags": []
   },
   "outputs": [],
   "source": []
  },
  {
   "cell_type": "code",
   "execution_count": null,
   "id": "concerned-latest",
   "metadata": {
    "_cell_guid": "6ce42f0e-1583-4648-8451-c8de8444460d",
    "_uuid": "c6bf0f8c-91f9-4b22-a23f-a5fecce56542",
    "collapsed": false,
    "jupyter": {
     "outputs_hidden": false
    },
    "papermill": {
     "duration": 0.022373,
     "end_time": "2021-05-09T09:39:31.552249",
     "exception": false,
     "start_time": "2021-05-09T09:39:31.529876",
     "status": "completed"
    },
    "tags": []
   },
   "outputs": [],
   "source": []
  },
  {
   "cell_type": "code",
   "execution_count": null,
   "id": "bacterial-tracy",
   "metadata": {
    "_cell_guid": "7c3674b8-820d-42be-98e0-c8db2c4df8c1",
    "_uuid": "8bdc9f4d-1945-4042-8731-8d7cf229f1c1",
    "collapsed": false,
    "jupyter": {
     "outputs_hidden": false
    },
    "papermill": {
     "duration": 0.02322,
     "end_time": "2021-05-09T09:39:31.601664",
     "exception": false,
     "start_time": "2021-05-09T09:39:31.578444",
     "status": "completed"
    },
    "tags": []
   },
   "outputs": [],
   "source": []
  }
 ],
 "metadata": {
  "kernelspec": {
   "display_name": "Python 3",
   "language": "python",
   "name": "python3"
  },
  "language_info": {
   "codemirror_mode": {
    "name": "ipython",
    "version": 3
   },
   "file_extension": ".py",
   "mimetype": "text/x-python",
   "name": "python",
   "nbconvert_exporter": "python",
   "pygments_lexer": "ipython3",
   "version": "3.7.10"
  },
  "papermill": {
   "default_parameters": {},
   "duration": 19.76315,
   "end_time": "2021-05-09T09:39:32.334183",
   "environment_variables": {},
   "exception": null,
   "input_path": "__notebook__.ipynb",
   "output_path": "__notebook__.ipynb",
   "parameters": {},
   "start_time": "2021-05-09T09:39:12.571033",
   "version": "2.3.3"
  }
 },
 "nbformat": 4,
 "nbformat_minor": 5
}
